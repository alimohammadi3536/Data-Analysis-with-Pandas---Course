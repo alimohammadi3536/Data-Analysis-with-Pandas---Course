{
 "cells": [
  {
   "cell_type": "code",
   "execution_count": 1,
   "id": "d2f7b23c",
   "metadata": {},
   "outputs": [],
   "source": [
    "a=['c','k','d']"
   ]
  },
  {
   "cell_type": "code",
   "execution_count": 2,
   "id": "1cd4c141",
   "metadata": {},
   "outputs": [
    {
     "data": {
      "text/plain": [
       "['c', 'd', 'k']"
      ]
     },
     "execution_count": 2,
     "metadata": {},
     "output_type": "execute_result"
    }
   ],
   "source": [
    "sorted(a)"
   ]
  },
  {
   "cell_type": "code",
   "execution_count": 3,
   "id": "47483465",
   "metadata": {},
   "outputs": [],
   "source": [
    "import pandas as pd"
   ]
  },
  {
   "cell_type": "code",
   "execution_count": 4,
   "id": "765ac94a",
   "metadata": {},
   "outputs": [
    {
     "data": {
      "text/plain": [
       "0    5.0\n",
       "1    1.6\n",
       "2    1.5\n",
       "Name: 1.2, dtype: float64"
      ]
     },
     "execution_count": 4,
     "metadata": {},
     "output_type": "execute_result"
    }
   ],
   "source": [
    "a=pd.read_csv('C:\\\\Users\\\\Ali\\\\Desktop\\\\weather.csv',usecols=['play'],squeeze=True)\n",
    "b=pd.read_csv('C:\\\\Users\\\\Ali\\\\Desktop\\\\B.csv',usecols=['crim'],squeeze=True)\n",
    "c=pd.read_csv('C:\\\\Users\\\\Ali\\\\Desktop\\\\Book1.csv',squeeze=True)\n",
    "c\n"
   ]
  },
  {
   "cell_type": "code",
   "execution_count": 5,
   "id": "a52c7dc3",
   "metadata": {},
   "outputs": [
    {
     "data": {
      "text/plain": [
       "array(['yes', 'yes', 'yes', 'yes', 'yes', 'yes', 'no', 'yes', 'no', 'no',\n",
       "       'no', 'no', 'yes', 'yes'], dtype=object)"
      ]
     },
     "execution_count": 5,
     "metadata": {},
     "output_type": "execute_result"
    }
   ],
   "source": [
    "a.values"
   ]
  },
  {
   "cell_type": "code",
   "execution_count": 6,
   "id": "277b7440",
   "metadata": {},
   "outputs": [
    {
     "data": {
      "text/plain": [
       "RangeIndex(start=0, stop=14, step=1)"
      ]
     },
     "execution_count": 6,
     "metadata": {},
     "output_type": "execute_result"
    }
   ],
   "source": [
    "a.index"
   ]
  },
  {
   "cell_type": "code",
   "execution_count": 7,
   "id": "bb033bc0",
   "metadata": {},
   "outputs": [
    {
     "data": {
      "text/plain": [
       "RangeIndex(start=0, stop=506, step=1)"
      ]
     },
     "execution_count": 7,
     "metadata": {},
     "output_type": "execute_result"
    }
   ],
   "source": [
    "b.index"
   ]
  },
  {
   "cell_type": "code",
   "execution_count": 8,
   "id": "590f2594",
   "metadata": {},
   "outputs": [
    {
     "data": {
      "text/plain": [
       "False"
      ]
     },
     "execution_count": 8,
     "metadata": {},
     "output_type": "execute_result"
    }
   ],
   "source": [
    "a.is_unique"
   ]
  },
  {
   "cell_type": "code",
   "execution_count": 9,
   "id": "9bd0ea3e",
   "metadata": {},
   "outputs": [
    {
     "data": {
      "text/plain": [
       "False"
      ]
     },
     "execution_count": 9,
     "metadata": {},
     "output_type": "execute_result"
    }
   ],
   "source": [
    "b.is_unique"
   ]
  },
  {
   "cell_type": "code",
   "execution_count": 10,
   "id": "b4244831",
   "metadata": {},
   "outputs": [
    {
     "data": {
      "text/plain": [
       "True"
      ]
     },
     "execution_count": 10,
     "metadata": {},
     "output_type": "execute_result"
    }
   ],
   "source": [
    "c.is_unique"
   ]
  },
  {
   "cell_type": "code",
   "execution_count": 11,
   "id": "ce085f31",
   "metadata": {},
   "outputs": [
    {
     "data": {
      "text/plain": [
       "0    5.0\n",
       "1    1.6\n",
       "2    1.5\n",
       "Name: 1.2, dtype: float64"
      ]
     },
     "execution_count": 11,
     "metadata": {},
     "output_type": "execute_result"
    }
   ],
   "source": [
    "c"
   ]
  },
  {
   "cell_type": "markdown",
   "id": "4c83581f",
   "metadata": {},
   "source": [
    "# b.ndimتعداد بعد ها(تعداد ستونها) را مشخص میکند  "
   ]
  },
  {
   "cell_type": "code",
   "execution_count": 12,
   "id": "174f99f0",
   "metadata": {},
   "outputs": [
    {
     "data": {
      "text/plain": [
       "1"
      ]
     },
     "execution_count": 12,
     "metadata": {},
     "output_type": "execute_result"
    }
   ],
   "source": [
    "a.ndim"
   ]
  },
  {
   "cell_type": "code",
   "execution_count": 13,
   "id": "0012896d",
   "metadata": {},
   "outputs": [
    {
     "data": {
      "text/plain": [
       "1"
      ]
     },
     "execution_count": 13,
     "metadata": {},
     "output_type": "execute_result"
    }
   ],
   "source": [
    "c.ndim"
   ]
  },
  {
   "cell_type": "code",
   "execution_count": 14,
   "id": "69fc1b07",
   "metadata": {},
   "outputs": [
    {
     "data": {
      "text/plain": [
       "(14,)"
      ]
     },
     "execution_count": 14,
     "metadata": {},
     "output_type": "execute_result"
    }
   ],
   "source": [
    "a.shape"
   ]
  },
  {
   "cell_type": "markdown",
   "id": "39b2b162",
   "metadata": {},
   "source": [
    "# برای ابعاد بیشتر هم استفاده میشود shape .یعنی سری ما506 ردیف یا سطر دارد "
   ]
  },
  {
   "cell_type": "code",
   "execution_count": 15,
   "id": "cc0e3116",
   "metadata": {},
   "outputs": [
    {
     "data": {
      "text/plain": [
       "(506,)"
      ]
     },
     "execution_count": 15,
     "metadata": {},
     "output_type": "execute_result"
    }
   ],
   "source": [
    "b.shape"
   ]
  },
  {
   "cell_type": "markdown",
   "id": "430cede1",
   "metadata": {},
   "source": [
    "# a.sizeتعداد عناصریا مقادیر سری"
   ]
  },
  {
   "cell_type": "code",
   "execution_count": 16,
   "id": "fe37be02",
   "metadata": {},
   "outputs": [
    {
     "data": {
      "text/plain": [
       "14"
      ]
     },
     "execution_count": 16,
     "metadata": {},
     "output_type": "execute_result"
    }
   ],
   "source": [
    "a.size"
   ]
  },
  {
   "cell_type": "code",
   "execution_count": 17,
   "id": "429e6597",
   "metadata": {},
   "outputs": [
    {
     "data": {
      "text/plain": [
       "506"
      ]
     },
     "execution_count": 17,
     "metadata": {},
     "output_type": "execute_result"
    }
   ],
   "source": [
    "b.size"
   ]
  },
  {
   "cell_type": "markdown",
   "id": "9b0c8899",
   "metadata": {},
   "source": [
    "# a.nameهمان سرتیتری که انتخاب کردم"
   ]
  },
  {
   "cell_type": "code",
   "execution_count": 18,
   "id": "cf5ea566",
   "metadata": {},
   "outputs": [
    {
     "data": {
      "text/plain": [
       "'crim'"
      ]
     },
     "execution_count": 18,
     "metadata": {},
     "output_type": "execute_result"
    }
   ],
   "source": [
    "b.name"
   ]
  },
  {
   "cell_type": "code",
   "execution_count": 19,
   "id": "e9294020",
   "metadata": {},
   "outputs": [
    {
     "data": {
      "text/plain": [
       "0      0.00632\n",
       "1      0.02731\n",
       "2      0.02729\n",
       "3      0.03237\n",
       "4      0.06905\n",
       "        ...   \n",
       "501    0.06263\n",
       "502    0.04527\n",
       "503    0.06076\n",
       "504    0.10959\n",
       "505    0.04741\n",
       "Name: crim, Length: 506, dtype: float64"
      ]
     },
     "execution_count": 19,
     "metadata": {},
     "output_type": "execute_result"
    }
   ],
   "source": [
    "b"
   ]
  },
  {
   "cell_type": "markdown",
   "id": "331722f8",
   "metadata": {},
   "source": [
    "# b.name='ali'اختصاص دادن نام جدید"
   ]
  },
  {
   "cell_type": "code",
   "execution_count": 23,
   "id": "f209f8ac",
   "metadata": {},
   "outputs": [
    {
     "data": {
      "text/plain": [
       "0      0.00632\n",
       "1      0.02731\n",
       "2      0.02729\n",
       "3      0.03237\n",
       "4      0.06905\n",
       "        ...   \n",
       "501    0.06263\n",
       "502    0.04527\n",
       "503    0.06076\n",
       "504    0.10959\n",
       "505    0.04741\n",
       "Name: ali, Length: 506, dtype: float64"
      ]
     },
     "execution_count": 23,
     "metadata": {},
     "output_type": "execute_result"
    }
   ],
   "source": [
    "b.name='ali'\n",
    "b"
   ]
  },
  {
   "cell_type": "markdown",
   "id": "f2c5dd0f",
   "metadata": {},
   "source": [
    "# more methods"
   ]
  },
  {
   "cell_type": "markdown",
   "id": "8d76a31f",
   "metadata": {},
   "source": [
    "# مرتب کردن مقادیر براساس حروف الفبا در سری"
   ]
  },
  {
   "cell_type": "code",
   "execution_count": 24,
   "id": "dee0fd96",
   "metadata": {},
   "outputs": [
    {
     "data": {
      "text/plain": [
       "0       0.00632\n",
       "284     0.00906\n",
       "285     0.01096\n",
       "341     0.01301\n",
       "55      0.01311\n",
       "         ...   \n",
       "414    45.74610\n",
       "410    51.13580\n",
       "405    67.92080\n",
       "418    73.53410\n",
       "380    88.97620\n",
       "Name: ali, Length: 506, dtype: float64"
      ]
     },
     "execution_count": 24,
     "metadata": {},
     "output_type": "execute_result"
    }
   ],
   "source": [
    "b.sort_values()"
   ]
  },
  {
   "cell_type": "markdown",
   "id": "9427c5bc",
   "metadata": {},
   "source": [
    "# فرقی نمیکند بصورت حروف الفبا مرتب میکند\n"
   ]
  },
  {
   "cell_type": "code",
   "execution_count": 25,
   "id": "666548b5",
   "metadata": {},
   "outputs": [
    {
     "data": {
      "text/plain": [
       "6      no\n",
       "8      no\n",
       "9      no\n",
       "10     no\n",
       "11     no\n",
       "0     yes\n",
       "1     yes\n",
       "2     yes\n",
       "3     yes\n",
       "4     yes\n",
       "5     yes\n",
       "7     yes\n",
       "12    yes\n",
       "13    yes\n",
       "Name: play, dtype: object"
      ]
     },
     "execution_count": 25,
     "metadata": {},
     "output_type": "execute_result"
    }
   ],
   "source": [
    "a.sort_values(ascending=True)"
   ]
  },
  {
   "cell_type": "code",
   "execution_count": 26,
   "id": "fc78cb4d",
   "metadata": {},
   "outputs": [
    {
     "data": {
      "text/plain": [
       "2    1.5\n",
       "1    1.6\n",
       "0    5.0\n",
       "Name: 1.2, dtype: float64"
      ]
     },
     "execution_count": 26,
     "metadata": {},
     "output_type": "execute_result"
    }
   ],
   "source": [
    "c.sort_values(ascending=True)"
   ]
  },
  {
   "cell_type": "markdown",
   "id": "a4659fae",
   "metadata": {},
   "source": [
    "# a.sort_values(ascending=False)معکوس حروف الفبا"
   ]
  },
  {
   "cell_type": "code",
   "execution_count": 27,
   "id": "14665955",
   "metadata": {},
   "outputs": [
    {
     "data": {
      "text/plain": [
       "0    yes\n",
       "1    yes\n",
       "2    yes\n",
       "3    yes\n",
       "4    yes\n",
       "Name: play, dtype: object"
      ]
     },
     "execution_count": 27,
     "metadata": {},
     "output_type": "execute_result"
    }
   ],
   "source": [
    "a.sort_values(ascending=False).head()"
   ]
  },
  {
   "cell_type": "code",
   "execution_count": 28,
   "id": "f9c918c9",
   "metadata": {},
   "outputs": [
    {
     "data": {
      "text/plain": [
       "6     no\n",
       "8     no\n",
       "9     no\n",
       "10    no\n",
       "11    no\n",
       "Name: play, dtype: object"
      ]
     },
     "execution_count": 28,
     "metadata": {},
     "output_type": "execute_result"
    }
   ],
   "source": [
    "a.sort_values(ascending=False).tail()"
   ]
  },
  {
   "cell_type": "code",
   "execution_count": 29,
   "id": "2c4bb2d0",
   "metadata": {},
   "outputs": [
    {
     "data": {
      "text/plain": [
       "0       0.00632\n",
       "284     0.00906\n",
       "285     0.01096\n",
       "341     0.01301\n",
       "55      0.01311\n",
       "         ...   \n",
       "414    45.74610\n",
       "410    51.13580\n",
       "405    67.92080\n",
       "418    73.53410\n",
       "380    88.97620\n",
       "Name: ali, Length: 506, dtype: float64"
      ]
     },
     "execution_count": 29,
     "metadata": {},
     "output_type": "execute_result"
    }
   ],
   "source": [
    "b.sort_values()\n"
   ]
  },
  {
   "cell_type": "markdown",
   "id": "adc2e491",
   "metadata": {},
   "source": [
    "# or"
   ]
  },
  {
   "cell_type": "code",
   "execution_count": 30,
   "id": "dfd4347a",
   "metadata": {},
   "outputs": [
    {
     "data": {
      "text/plain": [
       "0       0.00632\n",
       "284     0.00906\n",
       "285     0.01096\n",
       "341     0.01301\n",
       "55      0.01311\n",
       "         ...   \n",
       "414    45.74610\n",
       "410    51.13580\n",
       "405    67.92080\n",
       "418    73.53410\n",
       "380    88.97620\n",
       "Name: ali, Length: 506, dtype: float64"
      ]
     },
     "execution_count": 30,
     "metadata": {},
     "output_type": "execute_result"
    }
   ],
   "source": [
    "b.sort_values(ascending=True)"
   ]
  },
  {
   "cell_type": "markdown",
   "id": "2674a10b",
   "metadata": {},
   "source": [
    "# بصورت نزولی descending"
   ]
  },
  {
   "cell_type": "code",
   "execution_count": 31,
   "id": "da2ee663",
   "metadata": {},
   "outputs": [
    {
     "data": {
      "text/plain": [
       "380    88.97620\n",
       "418    73.53410\n",
       "405    67.92080\n",
       "410    51.13580\n",
       "414    45.74610\n",
       "         ...   \n",
       "55      0.01311\n",
       "341     0.01301\n",
       "285     0.01096\n",
       "284     0.00906\n",
       "0       0.00632\n",
       "Name: ali, Length: 506, dtype: float64"
      ]
     },
     "execution_count": 31,
     "metadata": {},
     "output_type": "execute_result"
    }
   ],
   "source": [
    "b.sort_values(ascending=False)"
   ]
  },
  {
   "cell_type": "code",
   "execution_count": null,
   "id": "23da6007",
   "metadata": {},
   "outputs": [],
   "source": []
  },
  {
   "cell_type": "code",
   "execution_count": null,
   "id": "d83df9ec",
   "metadata": {},
   "outputs": [],
   "source": []
  },
  {
   "cell_type": "code",
   "execution_count": null,
   "id": "cd99a563",
   "metadata": {},
   "outputs": [],
   "source": []
  }
 ],
 "metadata": {
  "kernelspec": {
   "display_name": "Python 3 (ipykernel)",
   "language": "python",
   "name": "python3"
  },
  "language_info": {
   "codemirror_mode": {
    "name": "ipython",
    "version": 3
   },
   "file_extension": ".py",
   "mimetype": "text/x-python",
   "name": "python",
   "nbconvert_exporter": "python",
   "pygments_lexer": "ipython3",
   "version": "3.9.12"
  }
 },
 "nbformat": 4,
 "nbformat_minor": 5
}
