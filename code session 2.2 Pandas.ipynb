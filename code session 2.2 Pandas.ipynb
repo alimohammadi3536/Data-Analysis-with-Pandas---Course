{
 "cells": [
  {
   "cell_type": "code",
   "execution_count": null,
   "id": "adc15346",
   "metadata": {},
   "outputs": [],
   "source": [
    "import pandas as pd\n"
   ]
  },
  {
   "cell_type": "code",
   "execution_count": null,
   "id": "c3650ca5",
   "metadata": {},
   "outputs": [],
   "source": [
    "a=[4,9,3]\n",
    "sorted(a)"
   ]
  },
  {
   "cell_type": "code",
   "execution_count": null,
   "id": "e13c86e3",
   "metadata": {},
   "outputs": [],
   "source": [
    "b=['z','t','k']\n",
    "sorted(b)\n"
   ]
  },
  {
   "cell_type": "code",
   "execution_count": null,
   "id": "31b28105",
   "metadata": {},
   "outputs": [],
   "source": [
    "s=pd.read_csv(\"C:\\\\Users\\\\Ali\\\\Desktop\\\\dataset session (1,2 ) Pandas  weather.csv\",usecols=['outlook'],squeeze=True)\n",
    "dict(s)"
   ]
  },
  {
   "cell_type": "code",
   "execution_count": null,
   "id": "21538291",
   "metadata": {},
   "outputs": [],
   "source": [
    "len(s)"
   ]
  },
  {
   "cell_type": "code",
   "execution_count": null,
   "id": "a1dd4add",
   "metadata": {},
   "outputs": [],
   "source": [
    "b=pd.Series(a)\n",
    "b"
   ]
  },
  {
   "cell_type": "code",
   "execution_count": null,
   "id": "2ac1f173",
   "metadata": {},
   "outputs": [],
   "source": [
    "sorted(b)"
   ]
  },
  {
   "cell_type": "code",
   "execution_count": null,
   "id": "a041628b",
   "metadata": {},
   "outputs": [],
   "source": [
    "len(b)"
   ]
  },
  {
   "cell_type": "code",
   "execution_count": null,
   "id": "8c30d842",
   "metadata": {},
   "outputs": [],
   "source": [
    "b.sum()"
   ]
  },
  {
   "cell_type": "code",
   "execution_count": null,
   "id": "64460571",
   "metadata": {},
   "outputs": [],
   "source": [
    "b.mean()"
   ]
  },
  {
   "cell_type": "code",
   "execution_count": null,
   "id": "550e34bf",
   "metadata": {},
   "outputs": [],
   "source": [
    "b.product()"
   ]
  },
  {
   "cell_type": "markdown",
   "id": "98294eb5",
   "metadata": {},
   "source": [
    " ## methodsها و attributes "
   ]
  },
  {
   "cell_type": "code",
   "execution_count": null,
   "id": "e7176d9b",
   "metadata": {},
   "outputs": [],
   "source": [
    "dir(s)"
   ]
  },
  {
   "cell_type": "markdown",
   "id": "0cc47477",
   "metadata": {},
   "source": [
    "# لیست مرتب شده از مقادیر سری را میدهد براساس حروف الفبا"
   ]
  },
  {
   "cell_type": "code",
   "execution_count": null,
   "id": "ceefc518",
   "metadata": {},
   "outputs": [],
   "source": [
    "sorted(s)"
   ]
  },
  {
   "cell_type": "code",
   "execution_count": null,
   "id": "7d555a9c",
   "metadata": {},
   "outputs": [],
   "source": [
    "list(s)"
   ]
  },
  {
   "cell_type": "markdown",
   "id": "ba401015",
   "metadata": {},
   "source": [
    "# max(s)اولین عنصر وآخرین عنصر بر اساس حروف الفبا"
   ]
  },
  {
   "cell_type": "code",
   "execution_count": null,
   "id": "a62f27ce",
   "metadata": {},
   "outputs": [],
   "source": [
    "min(s)"
   ]
  },
  {
   "cell_type": "code",
   "execution_count": null,
   "id": "f8c15f8b",
   "metadata": {},
   "outputs": [],
   "source": [
    "max(s)"
   ]
  },
  {
   "cell_type": "code",
   "execution_count": null,
   "id": "c6b083d1",
   "metadata": {},
   "outputs": [],
   "source": []
  },
  {
   "cell_type": "code",
   "execution_count": null,
   "id": "ba3e3848",
   "metadata": {},
   "outputs": [],
   "source": []
  },
  {
   "cell_type": "code",
   "execution_count": null,
   "id": "812e786e",
   "metadata": {},
   "outputs": [],
   "source": []
  }
 ],
 "metadata": {
  "kernelspec": {
   "display_name": "Python 3 (ipykernel)",
   "language": "python",
   "name": "python3"
  },
  "language_info": {
   "codemirror_mode": {
    "name": "ipython",
    "version": 3
   },
   "file_extension": ".py",
   "mimetype": "text/x-python",
   "name": "python",
   "nbconvert_exporter": "python",
   "pygments_lexer": "ipython3",
   "version": "3.9.12"
  }
 },
 "nbformat": 4,
 "nbformat_minor": 5
}
