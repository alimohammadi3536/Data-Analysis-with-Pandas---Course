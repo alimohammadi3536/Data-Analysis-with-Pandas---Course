{
 "cells": [
  {
   "cell_type": "code",
   "execution_count": null,
   "id": "6a689dad",
   "metadata": {},
   "outputs": [],
   "source": [
    "#!/usr/bin/env python\n",
    "# coding: utf-8"
   ]
  },
  {
   "cell_type": "markdown",
   "id": "57fc1897",
   "metadata": {},
   "source": [
    "# # استخراج مقادیر مختلف از اندیس ها"
   ]
  },
  {
   "cell_type": "code",
   "execution_count": null,
   "id": "85fd3ab2",
   "metadata": {},
   "outputs": [],
   "source": [
    "import pandas as pd"
   ]
  },
  {
   "cell_type": "code",
   "execution_count": null,
   "id": "f6f79442",
   "metadata": {},
   "outputs": [],
   "source": [
    "a=pd.read_excel(\"C:\\\\Users\\\\Ali\\\\Desktop\\\\dataset session 5 Pandas.xlsx\")\n",
    "a"
   ]
  },
  {
   "cell_type": "code",
   "execution_count": null,
   "id": "4afd27b7",
   "metadata": {},
   "outputs": [],
   "source": [
    "a=pd.read_excel(\"C:\\\\Users\\\\Ali\\\\Desktop\\\\dataset session 5 Pandas.xlsx\",index_col=\"a\")\n",
    "a"
   ]
  },
  {
   "cell_type": "code",
   "execution_count": null,
   "id": "071e3d17",
   "metadata": {},
   "outputs": [],
   "source": [
    "a=pd.read_excel(\"C:\\\\Users\\\\Ali\\\\Desktop\\\\dataset session 5 Pandas.xlsx\",index_col=\"a\",squeeze=True)\n",
    "a\n"
   ]
  },
  {
   "cell_type": "code",
   "execution_count": null,
   "id": "be4b5085",
   "metadata": {},
   "outputs": [],
   "source": [
    "a"
   ]
  },
  {
   "cell_type": "code",
   "execution_count": null,
   "id": "b9928a1a",
   "metadata": {},
   "outputs": [],
   "source": [
    "a[0]"
   ]
  },
  {
   "cell_type": "code",
   "execution_count": null,
   "id": "463f84d6",
   "metadata": {},
   "outputs": [],
   "source": [
    "a[[0,2]]"
   ]
  },
  {
   "cell_type": "code",
   "execution_count": null,
   "id": "f85ce441",
   "metadata": {},
   "outputs": [],
   "source": [
    "a[\"d\"]"
   ]
  },
  {
   "cell_type": "code",
   "execution_count": null,
   "id": "27c08d25",
   "metadata": {},
   "outputs": [],
   "source": [
    "a[\"e\"]"
   ]
  },
  {
   "cell_type": "code",
   "execution_count": null,
   "id": "14ee0d4d",
   "metadata": {},
   "outputs": [],
   "source": [
    "a[['d','f']]"
   ]
  },
  {
   "cell_type": "code",
   "execution_count": null,
   "id": "d520e529",
   "metadata": {},
   "outputs": [],
   "source": [
    "a[\"d\":\"l\"]"
   ]
  },
  {
   "cell_type": "code",
   "execution_count": null,
   "id": "d214d550",
   "metadata": {},
   "outputs": [],
   "source": [
    "a[\"l\":]"
   ]
  },
  {
   "cell_type": "code",
   "execution_count": null,
   "id": "bcf45d5a",
   "metadata": {},
   "outputs": [],
   "source": [
    "a[:\"f\"]"
   ]
  },
  {
   "cell_type": "code",
   "execution_count": null,
   "id": "afb8c7b6",
   "metadata": {},
   "outputs": [],
   "source": [
    "a[[\"q\",\"f\"]]"
   ]
  },
  {
   "cell_type": "code",
   "execution_count": null,
   "id": "abf0c4f2",
   "metadata": {},
   "outputs": [],
   "source": [
    "a.reindex(index=[\"q\",\"f\"])"
   ]
  },
  {
   "cell_type": "code",
   "execution_count": null,
   "id": "c2be383d",
   "metadata": {},
   "outputs": [],
   "source": [
    "a[\"d\":\"l\":3]"
   ]
  },
  {
   "cell_type": "code",
   "execution_count": null,
   "id": "a55d7e5c",
   "metadata": {},
   "outputs": [],
   "source": [
    "a"
   ]
  },
  {
   "cell_type": "code",
   "execution_count": null,
   "id": "e393e3e9",
   "metadata": {},
   "outputs": [],
   "source": [
    "# # استخراج مقادیر از اندیس های مرتب شده"
   ]
  },
  {
   "cell_type": "code",
   "execution_count": null,
   "id": "4123444b",
   "metadata": {},
   "outputs": [],
   "source": [
    "a.sort_index(inplace=True)"
   ]
  },
  {
   "cell_type": "code",
   "execution_count": null,
   "id": "82e489e1",
   "metadata": {},
   "outputs": [],
   "source": [
    "a"
   ]
  },
  {
   "cell_type": "code",
   "execution_count": null,
   "id": "af72c38a",
   "metadata": {},
   "outputs": [],
   "source": [
    "a.get(0)"
   ]
  },
  {
   "cell_type": "code",
   "execution_count": null,
   "id": "b4e228b3",
   "metadata": {},
   "outputs": [],
   "source": [
    "a.get('l')"
   ]
  },
  {
   "cell_type": "code",
   "execution_count": null,
   "id": "2b2fc4e2",
   "metadata": {},
   "outputs": [],
   "source": [
    "a.get([1,4])"
   ]
  },
  {
   "cell_type": "code",
   "execution_count": null,
   "id": "b2a217c0",
   "metadata": {},
   "outputs": [],
   "source": [
    "a.get(1000)"
   ]
  },
  {
   "cell_type": "code",
   "execution_count": null,
   "id": "a0823648",
   "metadata": {},
   "outputs": [],
   "source": [
    "a.get('y')"
   ]
  },
  {
   "cell_type": "code",
   "execution_count": null,
   "id": "89fcf352",
   "metadata": {},
   "outputs": [],
   "source": [
    "a.get(['y','f'])"
   ]
  },
  {
   "cell_type": "code",
   "execution_count": null,
   "id": "44b8011a",
   "metadata": {},
   "outputs": [],
   "source": [
    "a.get(['t','s'])"
   ]
  },
  {
   "cell_type": "code",
   "execution_count": null,
   "id": "fe82eac7",
   "metadata": {},
   "outputs": [],
   "source": [
    "a.get('t',default=\"Does not exist\")"
   ]
  },
  {
   "cell_type": "code",
   "execution_count": null,
   "id": "03740bed",
   "metadata": {},
   "outputs": [],
   "source": [
    "a.get('q',default= \"Does not exist\")"
   ]
  },
  {
   "cell_type": "code",
   "execution_count": null,
   "id": "c2f883cc",
   "metadata": {},
   "outputs": [],
   "source": [
    "a.get('f',default= \"Does not exist\")"
   ]
  },
  {
   "cell_type": "code",
   "execution_count": null,
   "id": "8ccc85ab",
   "metadata": {},
   "outputs": [],
   "source": [
    "a.get(key=['c','d','q'],default= \"Does not exist\")"
   ]
  },
  {
   "cell_type": "code",
   "execution_count": null,
   "id": "74f31f11",
   "metadata": {},
   "outputs": [],
   "source": [
    "a.get(key=[0,1,3],default= \"Does not exist\")"
   ]
  },
  {
   "cell_type": "code",
   "execution_count": null,
   "id": "5f74a870",
   "metadata": {},
   "outputs": [],
   "source": [
    "# # روشهای ریاضی در سری \n"
   ]
  },
  {
   "cell_type": "code",
   "execution_count": null,
   "id": "b21af477",
   "metadata": {},
   "outputs": [],
   "source": [
    "data=pd.read_csv(\"C:\\\\Users\\\\Ali\\\\Desktop\\\\dataset session 3 Pandas numeric.csv\",squeeze=True)\n",
    "data"
   ]
  },
  {
   "cell_type": "code",
   "execution_count": null,
   "id": "d7f446c7",
   "metadata": {},
   "outputs": [],
   "source": [
    "data.count()"
   ]
  },
  {
   "cell_type": "code",
   "execution_count": null,
   "id": "cafc454a",
   "metadata": {},
   "outputs": [],
   "source": [
    "len(data)"
   ]
  },
  {
   "cell_type": "code",
   "execution_count": null,
   "id": "99694ed5",
   "metadata": {},
   "outputs": [],
   "source": [
    "data.sum()"
   ]
  },
  {
   "cell_type": "code",
   "execution_count": null,
   "id": "984afa9d",
   "metadata": {},
   "outputs": [],
   "source": [
    "data.mean()"
   ]
  },
  {
   "cell_type": "code",
   "execution_count": null,
   "id": "ba26db54",
   "metadata": {},
   "outputs": [],
   "source": [
    "data.sum() / data.count()"
   ]
  },
  {
   "cell_type": "code",
   "execution_count": null,
   "id": "3c7e4a38",
   "metadata": {},
   "outputs": [],
   "source": [
    "data.std()"
   ]
  },
  {
   "cell_type": "code",
   "execution_count": null,
   "id": "f0e639b2",
   "metadata": {},
   "outputs": [],
   "source": [
    "data.min()"
   ]
  },
  {
   "cell_type": "code",
   "execution_count": null,
   "id": "6e1f2e93",
   "metadata": {},
   "outputs": [],
   "source": [
    "data.max()"
   ]
  },
  {
   "cell_type": "code",
   "execution_count": null,
   "id": "118d140e",
   "metadata": {},
   "outputs": [],
   "source": [
    "data.median()"
   ]
  },
  {
   "cell_type": "code",
   "execution_count": null,
   "id": "7f2a1451",
   "metadata": {},
   "outputs": [],
   "source": [
    "data.mode()"
   ]
  },
  {
   "cell_type": "code",
   "execution_count": null,
   "id": "688c5dc3",
   "metadata": {},
   "outputs": [],
   "source": [
    "data.describe()"
   ]
  },
  {
   "cell_type": "code",
   "execution_count": null,
   "id": "bb1825ee",
   "metadata": {},
   "outputs": [],
   "source": []
  },
  {
   "cell_type": "code",
   "execution_count": null,
   "id": "5c6417db",
   "metadata": {},
   "outputs": [],
   "source": []
  },
  {
   "cell_type": "code",
   "execution_count": null,
   "id": "d848c03f",
   "metadata": {},
   "outputs": [],
   "source": []
  },
  {
   "cell_type": "code",
   "execution_count": null,
   "id": "958ca4ed",
   "metadata": {},
   "outputs": [],
   "source": []
  }
 ],
 "metadata": {
  "kernelspec": {
   "display_name": "Python 3 (ipykernel)",
   "language": "python",
   "name": "python3"
  },
  "language_info": {
   "codemirror_mode": {
    "name": "ipython",
    "version": 3
   },
   "file_extension": ".py",
   "mimetype": "text/x-python",
   "name": "python",
   "nbconvert_exporter": "python",
   "pygments_lexer": "ipython3",
   "version": "3.9.12"
  }
 },
 "nbformat": 4,
 "nbformat_minor": 5
}
