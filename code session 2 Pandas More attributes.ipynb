{
 "cells": [
  {
   "cell_type": "code",
   "execution_count": null,
   "id": "d4a8157d",
   "metadata": {},
   "outputs": [],
   "source": [
    "#!/usr/bin/env python\n",
    "# coding: utf-8\n"
   ]
  },
  {
   "cell_type": "code",
   "execution_count": null,
   "id": "2ae23b1c",
   "metadata": {},
   "outputs": [],
   "source": [
    "a=['c','k','d']"
   ]
  },
  {
   "cell_type": "code",
   "execution_count": null,
   "id": "4f56ba7b",
   "metadata": {},
   "outputs": [],
   "source": [
    "sorted(a)"
   ]
  },
  {
   "cell_type": "code",
   "execution_count": null,
   "id": "38ec6e1c",
   "metadata": {},
   "outputs": [],
   "source": [
    "import pandas as pd"
   ]
  },
  {
   "cell_type": "code",
   "execution_count": null,
   "id": "ff18d95d",
   "metadata": {},
   "outputs": [],
   "source": [
    "a=pd.read_csv('C:\\\\Users\\\\Ali\\\\Desktop\\\\weather.csv',usecols=['play'],squeeze=True)\n",
    "b=pd.read_csv('C:\\\\Users\\\\Ali\\\\Desktop\\\\B.csv',usecols=['crim'],squeeze=True)\n",
    "c=pd.read_csv('C:\\\\Users\\\\Ali\\\\Desktop\\\\Book1.csv',squeeze=True)\n",
    "a\n"
   ]
  },
  {
   "cell_type": "code",
   "execution_count": null,
   "id": "50554efd",
   "metadata": {},
   "outputs": [],
   "source": [
    "a.values"
   ]
  },
  {
   "cell_type": "code",
   "execution_count": null,
   "id": "a63eb399",
   "metadata": {},
   "outputs": [],
   "source": [
    "b.values"
   ]
  },
  {
   "cell_type": "code",
   "execution_count": null,
   "id": "65818a5c",
   "metadata": {},
   "outputs": [],
   "source": [
    "a.index"
   ]
  },
  {
   "cell_type": "code",
   "execution_count": null,
   "id": "47ec6252",
   "metadata": {},
   "outputs": [],
   "source": [
    "b.index"
   ]
  },
  {
   "cell_type": "code",
   "execution_count": null,
   "id": "e0a7aa96",
   "metadata": {},
   "outputs": [],
   "source": [
    "a.is_unique"
   ]
  },
  {
   "cell_type": "code",
   "execution_count": null,
   "id": "c2ab057d",
   "metadata": {},
   "outputs": [],
   "source": [
    "b.is_unique"
   ]
  },
  {
   "cell_type": "code",
   "execution_count": null,
   "id": "40b97e79",
   "metadata": {},
   "outputs": [],
   "source": [
    "c.is_unique"
   ]
  },
  {
   "cell_type": "markdown",
   "id": "60cbcc57",
   "metadata": {},
   "source": [
    "# a.ndim"
   ]
  },
  {
   "cell_type": "markdown",
   "id": "50c7726f",
   "metadata": {},
   "source": [
    "# # b.ndimتعداد بعد ها(تعداد ستونها) را مشخص میکند "
   ]
  },
  {
   "cell_type": "code",
   "execution_count": null,
   "id": "523c2ed6",
   "metadata": {},
   "outputs": [],
   "source": [
    "c.ndim"
   ]
  },
  {
   "cell_type": "code",
   "execution_count": null,
   "id": "998c4ada",
   "metadata": {},
   "outputs": [],
   "source": [
    "a.shape"
   ]
  },
  {
   "cell_type": "markdown",
   "id": "9a5d4bf2",
   "metadata": {},
   "source": [
    "# # برای ابعاد بیشتر هم استفاده میشود shape .یعنی سری ما506 ردیف یا سطر دارد "
   ]
  },
  {
   "cell_type": "code",
   "execution_count": null,
   "id": "94322ec9",
   "metadata": {},
   "outputs": [],
   "source": [
    "b.shape"
   ]
  },
  {
   "cell_type": "markdown",
   "id": "97261cf8",
   "metadata": {},
   "source": [
    "# a.sizeتعداد عناصر یا مقادیر سری"
   ]
  },
  {
   "cell_type": "code",
   "execution_count": null,
   "id": "37fb51e9",
   "metadata": {},
   "outputs": [],
   "source": [
    "a.size"
   ]
  },
  {
   "cell_type": "code",
   "execution_count": null,
   "id": "d93dbbac",
   "metadata": {},
   "outputs": [],
   "source": [
    "b.size\n"
   ]
  },
  {
   "cell_type": "markdown",
   "id": "96fe0abf",
   "metadata": {},
   "source": [
    "# # a.nameهمان سرتیتری که انتخاب کردم"
   ]
  },
  {
   "cell_type": "code",
   "execution_count": null,
   "id": "16ae4187",
   "metadata": {},
   "outputs": [],
   "source": [
    "b.name"
   ]
  },
  {
   "cell_type": "code",
   "execution_count": null,
   "id": "15987738",
   "metadata": {},
   "outputs": [],
   "source": [
    "b"
   ]
  },
  {
   "cell_type": "markdown",
   "id": "fe3fa7dc",
   "metadata": {},
   "source": [
    "## b.name='ali'اختصاص دادن نام جدید"
   ]
  },
  {
   "cell_type": "code",
   "execution_count": null,
   "id": "8a1c1645",
   "metadata": {},
   "outputs": [],
   "source": [
    "b.name='ali'\n",
    "b"
   ]
  },
  {
   "cell_type": "markdown",
   "id": "aa16025d",
   "metadata": {},
   "source": [
    "### more methods"
   ]
  },
  {
   "cell_type": "markdown",
   "id": "632af113",
   "metadata": {},
   "source": [
    "# مرتب کردن مقادیر براساس حروف الفبا در سری\n"
   ]
  },
  {
   "cell_type": "code",
   "execution_count": null,
   "id": "88f08ed7",
   "metadata": {},
   "outputs": [],
   "source": [
    "a.sort_values().head()"
   ]
  },
  {
   "cell_type": "markdown",
   "id": "5645a6b3",
   "metadata": {},
   "source": [
    "# # فرقی نمیکند بصورت حروف الفبا مرتب میکند"
   ]
  },
  {
   "cell_type": "code",
   "execution_count": null,
   "id": "8e99759a",
   "metadata": {},
   "outputs": [],
   "source": [
    "a.sort_values(ascending=True)\n"
   ]
  },
  {
   "cell_type": "markdown",
   "id": "c0cf5365",
   "metadata": {},
   "source": [
    "# a.sort_values(ascending=False)معکوس حروف الفبا"
   ]
  },
  {
   "cell_type": "code",
   "execution_count": null,
   "id": "f186078a",
   "metadata": {},
   "outputs": [],
   "source": [
    "a.sort_values(ascending=False)"
   ]
  },
  {
   "cell_type": "code",
   "execution_count": null,
   "id": "a32eeb71",
   "metadata": {},
   "outputs": [],
   "source": [
    "a.sort_values(ascending=False).tail()"
   ]
  },
  {
   "cell_type": "code",
   "execution_count": null,
   "id": "26f89a5a",
   "metadata": {},
   "outputs": [],
   "source": [
    "b.sort_values()"
   ]
  },
  {
   "cell_type": "markdown",
   "id": "800b4763",
   "metadata": {},
   "source": [
    "# # or"
   ]
  },
  {
   "cell_type": "code",
   "execution_count": null,
   "id": "eaa0139d",
   "metadata": {},
   "outputs": [],
   "source": [
    "b.sort_values(ascending=True)"
   ]
  },
  {
   "cell_type": "markdown",
   "id": "530393b5",
   "metadata": {},
   "source": [
    "# # بصورت نزولی descending"
   ]
  },
  {
   "cell_type": "code",
   "execution_count": null,
   "id": "d7d07925",
   "metadata": {},
   "outputs": [],
   "source": [
    "b.sort_values(ascending=False)"
   ]
  },
  {
   "cell_type": "code",
   "execution_count": null,
   "id": "88257cce",
   "metadata": {},
   "outputs": [],
   "source": []
  },
  {
   "cell_type": "code",
   "execution_count": null,
   "id": "b57fb5d4",
   "metadata": {},
   "outputs": [],
   "source": []
  }
 ],
 "metadata": {
  "kernelspec": {
   "display_name": "Python 3 (ipykernel)",
   "language": "python",
   "name": "python3"
  },
  "language_info": {
   "codemirror_mode": {
    "name": "ipython",
    "version": 3
   },
   "file_extension": ".py",
   "mimetype": "text/x-python",
   "name": "python",
   "nbconvert_exporter": "python",
   "pygments_lexer": "ipython3",
   "version": "3.9.12"
  }
 },
 "nbformat": 4,
 "nbformat_minor": 5
}
